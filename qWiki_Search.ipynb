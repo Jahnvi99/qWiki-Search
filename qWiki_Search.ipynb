{
  "nbformat": 4,
  "nbformat_minor": 0,
  "metadata": {
    "colab": {
      "name": "qWiki_Search.ipynb",
      "provenance": [],
      "authorship_tag": "ABX9TyNjuFuRdHoJAOGy3BpTXL8F",
      "include_colab_link": true
    },
    "kernelspec": {
      "display_name": "Python 3",
      "name": "python3"
    },
    "language_info": {
      "name": "python"
    }
  },
  "cells": [
    {
      "cell_type": "markdown",
      "metadata": {
        "id": "view-in-github",
        "colab_type": "text"
      },
      "source": [
        "<a href=\"https://colab.research.google.com/github/Jahnvi99/qWiki-Search/blob/main/qWiki_Search.ipynb\" target=\"_parent\"><img src=\"https://colab.research.google.com/assets/colab-badge.svg\" alt=\"Open In Colab\"/></a>"
      ]
    },
    {
      "cell_type": "code",
      "metadata": {
        "colab": {
          "base_uri": "https://localhost:8080/"
        },
        "id": "TBNsfkQALkuU",
        "outputId": "fd55e611-18f1-4206-d033-732ea95f1771"
      },
      "source": [
        "!pip install wikipedia"
      ],
      "execution_count": 1,
      "outputs": [
        {
          "output_type": "stream",
          "text": [
            "Collecting wikipedia\n",
            "  Downloading https://files.pythonhosted.org/packages/67/35/25e68fbc99e672127cc6fbb14b8ec1ba3dfef035bf1e4c90f78f24a80b7d/wikipedia-1.4.0.tar.gz\n",
            "Requirement already satisfied: beautifulsoup4 in /usr/local/lib/python3.7/dist-packages (from wikipedia) (4.6.3)\n",
            "Requirement already satisfied: requests<3.0.0,>=2.0.0 in /usr/local/lib/python3.7/dist-packages (from wikipedia) (2.23.0)\n",
            "Requirement already satisfied: urllib3!=1.25.0,!=1.25.1,<1.26,>=1.21.1 in /usr/local/lib/python3.7/dist-packages (from requests<3.0.0,>=2.0.0->wikipedia) (1.24.3)\n",
            "Requirement already satisfied: certifi>=2017.4.17 in /usr/local/lib/python3.7/dist-packages (from requests<3.0.0,>=2.0.0->wikipedia) (2021.5.30)\n",
            "Requirement already satisfied: idna<3,>=2.5 in /usr/local/lib/python3.7/dist-packages (from requests<3.0.0,>=2.0.0->wikipedia) (2.10)\n",
            "Requirement already satisfied: chardet<4,>=3.0.2 in /usr/local/lib/python3.7/dist-packages (from requests<3.0.0,>=2.0.0->wikipedia) (3.0.4)\n",
            "Building wheels for collected packages: wikipedia\n",
            "  Building wheel for wikipedia (setup.py) ... \u001b[?25l\u001b[?25hdone\n",
            "  Created wheel for wikipedia: filename=wikipedia-1.4.0-cp37-none-any.whl size=11697 sha256=52cecebb9e7f0a2849e8e6fb707bbcb9586ca831cafa727695036137269616e4\n",
            "  Stored in directory: /root/.cache/pip/wheels/87/2a/18/4e471fd96d12114d16fe4a446d00c3b38fb9efcb744bd31f4a\n",
            "Successfully built wikipedia\n",
            "Installing collected packages: wikipedia\n",
            "Successfully installed wikipedia-1.4.0\n"
          ],
          "name": "stdout"
        }
      ]
    },
    {
      "cell_type": "markdown",
      "metadata": {
        "id": "a-sy3im0Lt4r"
      },
      "source": [
        "#Importing libraries"
      ]
    },
    {
      "cell_type": "code",
      "metadata": {
        "colab": {
          "base_uri": "https://localhost:8080/"
        },
        "id": "a_Jo3w3aLQMf",
        "outputId": "d3c60ed8-a43b-4d38-a573-47766c82e466"
      },
      "source": [
        "import re\n",
        "import nltk\n",
        "import numpy as np\n",
        "import wikipedia\n",
        "from sklearn.feature_extraction.text import TfidfVectorizer\n",
        "from sklearn.decomposition import NMF\n",
        "nltk.download('punkt')"
      ],
      "execution_count": 2,
      "outputs": [
        {
          "output_type": "stream",
          "text": [
            "[nltk_data] Downloading package punkt to /root/nltk_data...\n",
            "[nltk_data]   Unzipping tokenizers/punkt.zip.\n"
          ],
          "name": "stdout"
        },
        {
          "output_type": "execute_result",
          "data": {
            "text/plain": [
              "True"
            ]
          },
          "metadata": {
            "tags": []
          },
          "execution_count": 2
        }
      ]
    },
    {
      "cell_type": "markdown",
      "metadata": {
        "id": "LK2vyRzCL_p4"
      },
      "source": [
        "#Finding relevant wikipedia pages"
      ]
    },
    {
      "cell_type": "code",
      "metadata": {
        "colab": {
          "base_uri": "https://localhost:8080/"
        },
        "id": "QJt4dH7kL-Ku",
        "outputId": "729ae3a2-b3c9-4cc1-e422-19923a08d52f"
      },
      "source": [
        "query = input('Enter query: ')\n",
        "n = int(input('Enter number of sentences to be returned: '))\n",
        "\n",
        "titles = wikipedia.search(query, results=5)\n",
        "if not titles:\n",
        "\tprint ('The given query does not match any wikipedia page.')\n",
        "\texit()"
      ],
      "execution_count": 15,
      "outputs": [
        {
          "output_type": "stream",
          "text": [
            "Enter query: Elon Musk\n",
            "Enter number of sentences to be returned: 10\n"
          ],
          "name": "stdout"
        }
      ]
    },
    {
      "cell_type": "markdown",
      "metadata": {
        "id": "tVCUUKcrM5CT"
      },
      "source": [
        "#Extracting temporal sentences based only on year"
      ]
    },
    {
      "cell_type": "code",
      "metadata": {
        "id": "IzTSKRQXM35K"
      },
      "source": [
        "data = []\n",
        "for title in titles:\n",
        "    try:\n",
        "        raw_data = wikipedia.page(title).content.replace('\\n', ' ')\n",
        "        processed_data = re.sub('== References ==.+|== See Also ==.+', '', raw_data) #removing irrelevant data from content\n",
        "        data.append(processed_data)\n",
        "    except Exception:\n",
        "        pass\n",
        "\n",
        "articles = [nltk.sent_tokenize(text) for text in data]\n",
        "temporal_sentences = []\n",
        "for article in articles:\n",
        "    for sentence in article:\n",
        "        if re.search(r'\\d{4}', sentence) is not None:               \n",
        "            temporal_sentences.append(re.sub('=+.+?=+', '', sentence)) #removing all headings and subheadings"
      ],
      "execution_count": 16,
      "outputs": []
    },
    {
      "cell_type": "markdown",
      "metadata": {
        "id": "vaJxLlDlNggA"
      },
      "source": [
        "#Creating the document word matrix A"
      ]
    },
    {
      "cell_type": "code",
      "metadata": {
        "id": "reR86HN0NesB"
      },
      "source": [
        "tfidf_vectorizer = TfidfVectorizer(stop_words='english')\n",
        "tfidf = tfidf_vectorizer.fit_transform(temporal_sentences)"
      ],
      "execution_count": 17,
      "outputs": []
    },
    {
      "cell_type": "markdown",
      "metadata": {
        "id": "eeYchZGQNv5z"
      },
      "source": [
        "#Creating the model to calculate A=WH"
      ]
    },
    {
      "cell_type": "code",
      "metadata": {
        "id": "UPZdTliBNuu3"
      },
      "source": [
        "nmf_model = NMF(n_components=1, random_state=1, alpha=.1, l1_ratio=.5, init='nndsvd').fit(tfidf)\n",
        "W = nmf_model.transform(tfidf)"
      ],
      "execution_count": 18,
      "outputs": []
    },
    {
      "cell_type": "markdown",
      "metadata": {
        "id": "6kcOKedHN3l6"
      },
      "source": [
        "#Selecting top documents based on the score from topic to document matrix(W)"
      ]
    },
    {
      "cell_type": "code",
      "metadata": {
        "id": "iITTTkJBN3JE"
      },
      "source": [
        "top_sent_indices = np.argsort( W[:,0] )[::-1][0:n]\n",
        "best_sentences = [temporal_sentences[sent_index] for sent_index in top_sent_indices]"
      ],
      "execution_count": 19,
      "outputs": []
    },
    {
      "cell_type": "markdown",
      "metadata": {
        "id": "XK_8J88iONEo"
      },
      "source": [
        "#Sort and print the final output\n",
        "\n",
        "\n"
      ]
    },
    {
      "cell_type": "code",
      "metadata": {
        "colab": {
          "base_uri": "https://localhost:8080/"
        },
        "id": "nYwsC4zGLZH_",
        "outputId": "fa1dd455-b203-4674-a3d2-3edba653eda3"
      },
      "source": [
        "output = []\n",
        "for line in best_sentences:\n",
        "    year = re.search(r'\\d{4}', line).group()\n",
        "    output.append((year, line))\n",
        "sorted_output = sorted(output, key=lambda tup: tup[0], reverse = True)\n",
        "for item in sorted_output:\n",
        "\tprint(item)"
      ],
      "execution_count": 20,
      "outputs": [
        {
          "output_type": "stream",
          "text": [
            "('2019', 'ChinaIn August 2019, Musk announced that he would be launching The Boring Company China during a trip at the end of the month.')\n",
            "('2018', 'The Boring Company was initially formed as a subsidiary of SpaceX before becoming an independent company in 2018.In an interview during a TED conference in April 2017, Musk estimated that The Boring Company project had taken 2–3% of his time, making this venture a personal hobby.In March 2017, Musk announced that sometime in April the company would start using a tunnel boring machine (TBM) to begin digging a usable tunnel at SpaceX.')\n",
            "('2018', 'The Boring Company was initially formed as a subsidiary of SpaceX, becoming a separate and fully independent company in 2018.')\n",
            "('2018', \"Subsequent concerns by SpaceX shareholders resulted in a December 2018 reallocation of 6% of The Boring Company's equity to SpaceX.TBC provided an update on the state of their technology and product line in December 2018 when they opened to the public their first 1-mile-long (1.6 km) test tunnel in Hawthorne, California.In July 2019, The Boring Company authorized the first external investment, selling US$120 million in stock to a number of venture capital firms, after raising $113 million in non-outside capital during 2018.By November 2019, Steve Davis had become the president of The Boring Company, after leading boring efforts for Musk since 2016.\")\n",
            "('2018', 'Prufrock is a \"fully-Boring-Company-designed machine\" and was under development by May 2018.')\n",
            "('2018', 'In March 2018, Elon Musk announced that the company would readjust its plan to prioritize pedestrians and cyclists over cars; cars would only be considered for transport after all other \"personalized mass transit needs\" were met.In early 2018, The Boring Company was spun out from SpaceX and into a separate corporate entity.')\n",
            "('2018', 'As of December 2018, 90% of the equity was owned by Musk, with 6% held by SpaceX in return for the use of SpaceX resources during the initial startup of the company.')\n",
            "('2017', \"At the end of April 2017, a TBM was seen at SpaceX with The Boring Company's name on the side.\")\n",
            "('2017', '  The Boring Company began constructing a 2-mile (3.2 km) high-speed tunnel in 2017 on a route from Hawthorne, California along Interstate 405 to Westwood, adjacent to the SpaceX headquarters and manufacturing facility.')\n",
            "('2016', '  Elon Musk announced the existence of The Boring Company in December 2016.')\n"
          ],
          "name": "stdout"
        }
      ]
    },
    {
      "cell_type": "code",
      "metadata": {
        "id": "7Xg65aNpTN4I"
      },
      "source": [
        ""
      ],
      "execution_count": null,
      "outputs": []
    }
  ]
}