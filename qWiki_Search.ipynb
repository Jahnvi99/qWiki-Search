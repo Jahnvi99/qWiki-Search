{
  "nbformat": 4,
  "nbformat_minor": 0,
  "metadata": {
    "colab": {
      "name": "qWiki_Search.ipynb",
      "provenance": [],
      "authorship_tag": "ABX9TyNjuFuRdHoJAOGy3BpTXL8F",
      "include_colab_link": true
    },
    "kernelspec": {
      "display_name": "Python 3",
      "name": "python3"
    },
    "language_info": {
      "name": "python"
    }
  },
  "cells": [
    {
      "cell_type": "markdown",
      "metadata": {
        "id": "view-in-github",
        "colab_type": "text"
      },
      "source": [
        "<a href=\"https://colab.research.google.com/github/Jahnvi99/qWiki-Search/blob/main/qWiki_Search.ipynb\" target=\"_parent\"><img src=\"https://colab.research.google.com/assets/colab-badge.svg\" alt=\"Open In Colab\"/></a>"
      ]
    },
    {
      "cell_type": "code",
      "metadata": {
        "colab": {
          "base_uri": "https://localhost:8080/"
        },
        "id": "TBNsfkQALkuU",
        "outputId": "fd55e611-18f1-4206-d033-732ea95f1771"
      },
      "source": [
        "!pip install wikipedia"
      ],
      "execution_count": 1,
      "outputs": [
        {
          "output_type": "stream",
          "text": [
            "Collecting wikipedia\n",
            "  Downloading https://files.pythonhosted.org/packages/67/35/25e68fbc99e672127cc6fbb14b8ec1ba3dfef035bf1e4c90f78f24a80b7d/wikipedia-1.4.0.tar.gz\n",
            "Requirement already satisfied: beautifulsoup4 in /usr/local/lib/python3.7/dist-packages (from wikipedia) (4.6.3)\n",
            "Requirement already satisfied: requests<3.0.0,>=2.0.0 in /usr/local/lib/python3.7/dist-packages (from wikipedia) (2.23.0)\n",
            "Requirement already satisfied: urllib3!=1.25.0,!=1.25.1,<1.26,>=1.21.1 in /usr/local/lib/python3.7/dist-packages (from requests<3.0.0,>=2.0.0->wikipedia) (1.24.3)\n",
            "Requirement already satisfied: certifi>=2017.4.17 in /usr/local/lib/python3.7/dist-packages (from requests<3.0.0,>=2.0.0->wikipedia) (2021.5.30)\n",
            "Requirement already satisfied: idna<3,>=2.5 in /usr/local/lib/python3.7/dist-packages (from requests<3.0.0,>=2.0.0->wikipedia) (2.10)\n",
            "Requirement already satisfied: chardet<4,>=3.0.2 in /usr/local/lib/python3.7/dist-packages (from requests<3.0.0,>=2.0.0->wikipedia) (3.0.4)\n",
            "Building wheels for collected packages: wikipedia\n",
            "  Building wheel for wikipedia (setup.py) ... \u001b[?25l\u001b[?25hdone\n",
            "  Created wheel for wikipedia: filename=wikipedia-1.4.0-cp37-none-any.whl size=11697 sha256=52cecebb9e7f0a2849e8e6fb707bbcb9586ca831cafa727695036137269616e4\n",
            "  Stored in directory: /root/.cache/pip/wheels/87/2a/18/4e471fd96d12114d16fe4a446d00c3b38fb9efcb744bd31f4a\n",
            "Successfully built wikipedia\n",
            "Installing collected packages: wikipedia\n",
            "Successfully installed wikipedia-1.4.0\n"
          ],
          "name": "stdout"
        }
      ]
    },
    {
      "cell_type": "markdown",
      "metadata": {
        "id": "a-sy3im0Lt4r"
      },
      "source": [
        "#Importing libraries"
      ]
    },
    {
      "cell_type": "code",
      "metadata": {
        "colab": {
          "base_uri": "https://localhost:8080/"
        },
        "id": "a_Jo3w3aLQMf",
        "outputId": "d3c60ed8-a43b-4d38-a573-47766c82e466"
      },
      "source": [
        "import re\n",
        "import nltk\n",
        "import numpy as np\n",
        "import wikipedia\n",
        "from sklearn.feature_extraction.text import TfidfVectorizer\n",
        "from sklearn.decomposition import NMF\n",
        "nltk.download('punkt')"
      ],
      "execution_count": 2,
      "outputs": [
        {
          "output_type": "stream",
          "text": [
            "[nltk_data] Downloading package punkt to /root/nltk_data...\n",
            "[nltk_data]   Unzipping tokenizers/punkt.zip.\n"
          ],
          "name": "stdout"
        },
        {
          "output_type": "execute_result",
          "data": {
            "text/plain": [
              "True"
            ]
          },
          "metadata": {
            "tags": []
          },
          "execution_count": 2
        }
      ]
    },
    {
      "cell_type": "markdown",
      "metadata": {
        "id": "LK2vyRzCL_p4"
      },
      "source": [
        "#Finding relevant wikipedia pages"
      ]
    },
    {
      "cell_type": "code",
      "metadata": {
        "colab": {
          "base_uri": "https://localhost:8080/"
        },
        "id": "QJt4dH7kL-Ku",
        "outputId": "cbb8e33e-5367-4758-adce-51fcb8ad3eab"
      },
      "source": [
        "query = input('Enter query: ')\n",
        "n = int(input('Enter number of sentences to be returned: '))\n",
        "\n",
        "titles = wikipedia.search(query, results=5)\n",
        "if not titles:\n",
        "\tprint ('The given query does not match any wikipedia page.')\n",
        "\texit()"
      ],
      "execution_count": 3,
      "outputs": [
        {
          "output_type": "stream",
          "text": [
            "Enter query: Mahatma Gandhi\n",
            "Enter number of sentences to be returned: 7\n"
          ],
          "name": "stdout"
        }
      ]
    },
    {
      "cell_type": "markdown",
      "metadata": {
        "id": "tVCUUKcrM5CT"
      },
      "source": [
        "#Extracting temporal sentences based only on year"
      ]
    },
    {
      "cell_type": "code",
      "metadata": {
        "id": "IzTSKRQXM35K"
      },
      "source": [
        "data = []\n",
        "for title in titles:\n",
        "    try:\n",
        "        raw_data = wikipedia.page(title).content.replace('\\n', ' ')\n",
        "        processed_data = re.sub('== References ==.+|== See Also ==.+', '', raw_data) #removing irrelevant data from content\n",
        "        data.append(processed_data)\n",
        "    except Exception:\n",
        "        pass\n",
        "\n",
        "articles = [nltk.sent_tokenize(text) for text in data]\n",
        "temporal_sentences = []\n",
        "for article in articles:\n",
        "    for sentence in article:\n",
        "        if re.search(r'\\d{4}', sentence) is not None:               \n",
        "            temporal_sentences.append(re.sub('=+.+?=+', '', sentence)) #removing all headings and subheadings"
      ],
      "execution_count": 4,
      "outputs": []
    },
    {
      "cell_type": "markdown",
      "metadata": {
        "id": "vaJxLlDlNggA"
      },
      "source": [
        "#Creating the document word matrix A"
      ]
    },
    {
      "cell_type": "code",
      "metadata": {
        "id": "reR86HN0NesB"
      },
      "source": [
        "tfidf_vectorizer = TfidfVectorizer(stop_words='english')\n",
        "tfidf = tfidf_vectorizer.fit_transform(temporal_sentences)"
      ],
      "execution_count": 5,
      "outputs": []
    },
    {
      "cell_type": "markdown",
      "metadata": {
        "id": "eeYchZGQNv5z"
      },
      "source": [
        "#Creating the model to calculate A=WH"
      ]
    },
    {
      "cell_type": "code",
      "metadata": {
        "id": "UPZdTliBNuu3"
      },
      "source": [
        "nmf_model = NMF(n_components=1, random_state=1, alpha=.1, l1_ratio=.5, init='nndsvd').fit(tfidf)\n",
        "W = nmf_model.transform(tfidf)"
      ],
      "execution_count": 6,
      "outputs": []
    },
    {
      "cell_type": "markdown",
      "metadata": {
        "id": "6kcOKedHN3l6"
      },
      "source": [
        "#Selecting top documents based on the score from topic to document matrix(W)"
      ]
    },
    {
      "cell_type": "code",
      "metadata": {
        "id": "iITTTkJBN3JE"
      },
      "source": [
        "top_sent_indices = np.argsort( W[:,0] )[::-1][0:n]\n",
        "best_sentences = [temporal_sentences[sent_index] for sent_index in top_sent_indices]"
      ],
      "execution_count": 7,
      "outputs": []
    },
    {
      "cell_type": "markdown",
      "metadata": {
        "id": "XK_8J88iONEo"
      },
      "source": [
        "#Sort and print the final output\n",
        "\n",
        "\n"
      ]
    },
    {
      "cell_type": "code",
      "metadata": {
        "colab": {
          "base_uri": "https://localhost:8080/"
        },
        "id": "nYwsC4zGLZH_",
        "outputId": "c1230418-ed34-4e7b-e24c-3eb2252c66d2"
      },
      "source": [
        "output = []\n",
        "for line in best_sentences:\n",
        "    year = re.search(r'\\d{4}', line).group()\n",
        "    output.append((year, line))\n",
        "sorted_output = sorted(output, key=lambda tup: tup[0], reverse = True)\n",
        "for item in sorted_output:\n",
        "\tprint(item)"
      ],
      "execution_count": 8,
      "outputs": [
        {
          "output_type": "stream",
          "text": [
            "('1948', 'Mahatma Gandhi was assassinated on 30 January 1948 in the compound of Birla Gandhi’s House (now Gandhi Smriti), a large mansion in New Delhi.')\n",
            "('1948', \"Among them was Nathuram Godse, a Hindu nationalist who assassinated Gandhi on 30 January 1948 by firing three bullets into his chest.Gandhi's birthday, 2 October, is commemorated in India as Gandhi Jayanti, a national holiday, and worldwide as the International Day of Nonviolence.\")\n",
            "('1930', \"Gandhi led Congress in a  celebration on 26 January 1930 of India's Independence Day in Lahore.\")\n",
            "('1920', \"Gandhi took Gokhale's liberal approach based on British Whiggish traditions and transformed it to make it look Indian.Gandhi took leadership of the Congress in 1920 and began escalating demands until on 26 January 1930 the Indian National Congress declared the independence of India.\")\n",
            "('1888', 'Harilal Mohandas Gandhi (23 August 1888 – 18 June 1948) was the eldest son of Mohandas Karamchand Gandhi and Kasturba Gandhi.')\n",
            "('1869', 'The Gandhi family is the family of Mohandas Gandhi (2 October 1869 – 30 January 1948).')\n",
            "('1822', ' Karamchand Uttamchand Gandhi (1822 - 1885)    Mohandas Karamchand Gandhi (Mahatma Gandhi) (1869 - 1948) Kasturba Gandhi (1869 - 1944)    Harilal Gandhi (1888 - 1948) Manilal Gandhi (1892 - 1956) Ramdas Gandhi (1897 - 1969) Devdas Gandhi (1900 - 1957) Maganlal Gandhi (1883 - 1928) Samaldas Gandhi (1897 - 1953)    Rajmohan Gandhi (1935 -  ) Gopalkrishna Gandhi (1945 - ) Ramchandra Gandhi (1937 - 2007) Arun Manilal Gandhi (1934 - ) Ela Gandhi (1940 - ) Kanu Gandhi (photographer) (1917 - 1986) Kanu Gandhi (scientist) (1928 - 2016)    Tushar Gandhi (1960 - ) Shanti Gandhi (1940 - ) Leela Gandhi (1966 - ) Kirti Menon (1959 - )   ')\n"
          ],
          "name": "stdout"
        }
      ]
    },
    {
      "cell_type": "code",
      "metadata": {
        "id": "7Xg65aNpTN4I"
      },
      "source": [
        ""
      ],
      "execution_count": null,
      "outputs": []
    }
  ]
}